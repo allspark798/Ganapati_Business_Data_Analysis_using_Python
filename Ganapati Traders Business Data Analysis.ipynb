{
 "cells": [
  {
   "cell_type": "code",
   "execution_count": 27,
   "id": "535779d5",
   "metadata": {},
   "outputs": [],
   "source": [
    "# import python libraries\n",
    "\n",
    "import numpy as np \n",
    "import pandas as pd \n",
    "import matplotlib.pyplot as plt # visualizing data\n",
    "%matplotlib inline\n",
    "import seaborn as sns"
   ]
  },
  {
   "cell_type": "code",
   "execution_count": 28,
   "id": "f5775d4c",
   "metadata": {},
   "outputs": [],
   "source": [
    "# import csv file\n",
    "df = pd.read_csv('1.csv', encoding= 'unicode_escape')\n",
    "#to avoid encoding error use 'unicode_escape'"
   ]
  },
  {
   "cell_type": "code",
   "execution_count": 29,
   "id": "4c841d21",
   "metadata": {},
   "outputs": [
    {
     "ename": "TypeError",
     "evalue": "'tuple' object is not callable",
     "output_type": "error",
     "traceback": [
      "\u001b[1;31m---------------------------------------------------------------------------\u001b[0m",
      "\u001b[1;31mTypeError\u001b[0m                                 Traceback (most recent call last)",
      "Cell \u001b[1;32mIn[29], line 1\u001b[0m\n\u001b[1;32m----> 1\u001b[0m \u001b[43mdf\u001b[49m\u001b[38;5;241;43m.\u001b[39;49m\u001b[43mshape\u001b[49m\u001b[43m(\u001b[49m\u001b[43m)\u001b[49m\n",
      "\u001b[1;31mTypeError\u001b[0m: 'tuple' object is not callable"
     ]
    }
   ],
   "source": [
    "df.shape()"
   ]
  },
  {
   "cell_type": "code",
   "execution_count": 30,
   "id": "e0a72efd",
   "metadata": {},
   "outputs": [
    {
     "ename": "TypeError",
     "evalue": "'tuple' object is not callable",
     "output_type": "error",
     "traceback": [
      "\u001b[1;31m---------------------------------------------------------------------------\u001b[0m",
      "\u001b[1;31mTypeError\u001b[0m                                 Traceback (most recent call last)",
      "Cell \u001b[1;32mIn[30], line 1\u001b[0m\n\u001b[1;32m----> 1\u001b[0m \u001b[43mdf\u001b[49m\u001b[38;5;241;43m.\u001b[39;49m\u001b[43mshape\u001b[49m\u001b[43m(\u001b[49m\u001b[43m)\u001b[49m\n",
      "\u001b[1;31mTypeError\u001b[0m: 'tuple' object is not callable"
     ]
    }
   ],
   "source": [
    "df.shape()"
   ]
  },
  {
   "cell_type": "code",
   "execution_count": 31,
   "id": "e5805eaf",
   "metadata": {},
   "outputs": [
    {
     "data": {
      "text/html": [
       "<div>\n",
       "<style scoped>\n",
       "    .dataframe tbody tr th:only-of-type {\n",
       "        vertical-align: middle;\n",
       "    }\n",
       "\n",
       "    .dataframe tbody tr th {\n",
       "        vertical-align: top;\n",
       "    }\n",
       "\n",
       "    .dataframe thead th {\n",
       "        text-align: right;\n",
       "    }\n",
       "</style>\n",
       "<table border=\"1\" class=\"dataframe\">\n",
       "  <thead>\n",
       "    <tr style=\"text-align: right;\">\n",
       "      <th></th>\n",
       "      <th>S.No.</th>\n",
       "      <th>Store's Name</th>\n",
       "      <th>Owner's Name</th>\n",
       "      <th>Gender</th>\n",
       "      <th>Ward No.</th>\n",
       "      <th>Contact Details</th>\n",
       "      <th>Unnamed: 6</th>\n",
       "      <th>Year Wise Orders No.</th>\n",
       "      <th>Unnamed: 8</th>\n",
       "      <th>Unnamed: 9</th>\n",
       "      <th>...</th>\n",
       "      <th>Unnamed: 13</th>\n",
       "      <th>Unnamed: 14</th>\n",
       "      <th>Total No. of Orders [Units]</th>\n",
       "      <th>Total Cost [Exclusive Tax] [CP] Rs.</th>\n",
       "      <th>Total Selling Cost [Inclusive of sell Tax] @ 5% Rs.</th>\n",
       "      <th>VAT Amount @ 15%</th>\n",
       "      <th>Total Transaction [Rs.]</th>\n",
       "      <th>Paid [Rs.]</th>\n",
       "      <th>Unpaid [Rs.]</th>\n",
       "      <th>Due Periods [Days]</th>\n",
       "    </tr>\n",
       "  </thead>\n",
       "  <tbody>\n",
       "    <tr>\n",
       "      <th>0</th>\n",
       "      <td>1</td>\n",
       "      <td>Sita Sharan Stores</td>\n",
       "      <td>Mr. Sharan Jha</td>\n",
       "      <td>M</td>\n",
       "      <td>7</td>\n",
       "      <td>8898562144</td>\n",
       "      <td>521425</td>\n",
       "      <td>12</td>\n",
       "      <td>17</td>\n",
       "      <td>20</td>\n",
       "      <td>...</td>\n",
       "      <td>15</td>\n",
       "      <td>30</td>\n",
       "      <td>216</td>\n",
       "      <td>595654</td>\n",
       "      <td>625436.70</td>\n",
       "      <td>93815.5050</td>\n",
       "      <td>7.192522e+05</td>\n",
       "      <td>656585</td>\n",
       "      <td>62667.2050</td>\n",
       "      <td>12</td>\n",
       "    </tr>\n",
       "    <tr>\n",
       "      <th>1</th>\n",
       "      <td>2</td>\n",
       "      <td>Ram Lalit Stores</td>\n",
       "      <td>Mr. Ram Lalit Sah</td>\n",
       "      <td>M</td>\n",
       "      <td>4</td>\n",
       "      <td>8898562443</td>\n",
       "      <td>521436</td>\n",
       "      <td>15</td>\n",
       "      <td>14</td>\n",
       "      <td>17</td>\n",
       "      <td>...</td>\n",
       "      <td>12</td>\n",
       "      <td>24</td>\n",
       "      <td>213</td>\n",
       "      <td>548454</td>\n",
       "      <td>575876.70</td>\n",
       "      <td>86381.5050</td>\n",
       "      <td>6.622582e+05</td>\n",
       "      <td>565658</td>\n",
       "      <td>96600.2050</td>\n",
       "      <td>15</td>\n",
       "    </tr>\n",
       "    <tr>\n",
       "      <th>2</th>\n",
       "      <td>3</td>\n",
       "      <td>Ram General Bhandar</td>\n",
       "      <td>Mr. Ram Kumar Sah</td>\n",
       "      <td>M</td>\n",
       "      <td>5</td>\n",
       "      <td>8898562742</td>\n",
       "      <td>521447</td>\n",
       "      <td>25</td>\n",
       "      <td>15</td>\n",
       "      <td>18</td>\n",
       "      <td>...</td>\n",
       "      <td>13</td>\n",
       "      <td>26</td>\n",
       "      <td>261</td>\n",
       "      <td>252445</td>\n",
       "      <td>265067.25</td>\n",
       "      <td>39760.0875</td>\n",
       "      <td>3.048273e+05</td>\n",
       "      <td>223223</td>\n",
       "      <td>81604.3375</td>\n",
       "      <td>25</td>\n",
       "    </tr>\n",
       "    <tr>\n",
       "      <th>3</th>\n",
       "      <td>4</td>\n",
       "      <td>Shyam Ram Stores</td>\n",
       "      <td>Mr. Shyam Thakur</td>\n",
       "      <td>M</td>\n",
       "      <td>6</td>\n",
       "      <td>8898563041</td>\n",
       "      <td>521458</td>\n",
       "      <td>2</td>\n",
       "      <td>12</td>\n",
       "      <td>15</td>\n",
       "      <td>...</td>\n",
       "      <td>10</td>\n",
       "      <td>20</td>\n",
       "      <td>140</td>\n",
       "      <td>845426</td>\n",
       "      <td>887697.30</td>\n",
       "      <td>133154.5950</td>\n",
       "      <td>1.020852e+06</td>\n",
       "      <td>95652</td>\n",
       "      <td>925199.8950</td>\n",
       "      <td>2</td>\n",
       "    </tr>\n",
       "    <tr>\n",
       "      <th>4</th>\n",
       "      <td>5</td>\n",
       "      <td>Ram Bhagat Stores</td>\n",
       "      <td>Mr. Bhagat Jha</td>\n",
       "      <td>M</td>\n",
       "      <td>3</td>\n",
       "      <td>8898563340</td>\n",
       "      <td>521469</td>\n",
       "      <td>3</td>\n",
       "      <td>17</td>\n",
       "      <td>20</td>\n",
       "      <td>...</td>\n",
       "      <td>15</td>\n",
       "      <td>30</td>\n",
       "      <td>363</td>\n",
       "      <td>256252</td>\n",
       "      <td>269064.60</td>\n",
       "      <td>40359.6900</td>\n",
       "      <td>3.094243e+05</td>\n",
       "      <td>235621</td>\n",
       "      <td>73803.2900</td>\n",
       "      <td>3</td>\n",
       "    </tr>\n",
       "  </tbody>\n",
       "</table>\n",
       "<p>5 rows × 23 columns</p>\n",
       "</div>"
      ],
      "text/plain": [
       "   S.No.         Store's Name      Owner's Name  Gender  Ward No.  \\\n",
       "0      1   Sita Sharan Stores     Mr. Sharan Jha      M         7   \n",
       "1      2     Ram Lalit Stores  Mr. Ram Lalit Sah      M         4   \n",
       "2      3  Ram General Bhandar  Mr. Ram Kumar Sah      M         5   \n",
       "3      4     Shyam Ram Stores   Mr. Shyam Thakur      M         6   \n",
       "4      5    Ram Bhagat Stores     Mr. Bhagat Jha      M         3   \n",
       "\n",
       "    Contact Details  Unnamed: 6  Year Wise Orders No.  Unnamed: 8  Unnamed: 9  \\\n",
       "0        8898562144      521425                    12          17          20   \n",
       "1        8898562443      521436                    15          14          17   \n",
       "2        8898562742      521447                    25          15          18   \n",
       "3        8898563041      521458                     2          12          15   \n",
       "4        8898563340      521469                     3          17          20   \n",
       "\n",
       "   ...  Unnamed: 13  Unnamed: 14  Total No. of Orders [Units]  \\\n",
       "0  ...           15           30                          216   \n",
       "1  ...           12           24                          213   \n",
       "2  ...           13           26                          261   \n",
       "3  ...           10           20                          140   \n",
       "4  ...           15           30                          363   \n",
       "\n",
       "   Total Cost [Exclusive Tax] [CP] Rs.  \\\n",
       "0                               595654   \n",
       "1                               548454   \n",
       "2                               252445   \n",
       "3                               845426   \n",
       "4                               256252   \n",
       "\n",
       "   Total Selling Cost [Inclusive of sell Tax] @ 5% Rs.  VAT Amount @ 15%  \\\n",
       "0                                          625436.70          93815.5050   \n",
       "1                                          575876.70          86381.5050   \n",
       "2                                          265067.25          39760.0875   \n",
       "3                                          887697.30         133154.5950   \n",
       "4                                          269064.60          40359.6900   \n",
       "\n",
       "   Total Transaction [Rs.]  Paid [Rs.]  Unpaid [Rs.]  Due Periods [Days]  \n",
       "0             7.192522e+05      656585    62667.2050                  12  \n",
       "1             6.622582e+05      565658    96600.2050                  15  \n",
       "2             3.048273e+05      223223    81604.3375                  25  \n",
       "3             1.020852e+06       95652   925199.8950                   2  \n",
       "4             3.094243e+05      235621    73803.2900                   3  \n",
       "\n",
       "[5 rows x 23 columns]"
      ]
     },
     "execution_count": 31,
     "metadata": {},
     "output_type": "execute_result"
    }
   ],
   "source": [
    "df.head()"
   ]
  },
  {
   "cell_type": "code",
   "execution_count": 32,
   "id": "c45e7e6f",
   "metadata": {},
   "outputs": [
    {
     "name": "stdout",
     "output_type": "stream",
     "text": [
      "<class 'pandas.core.frame.DataFrame'>\n",
      "RangeIndex: 100 entries, 0 to 99\n",
      "Data columns (total 23 columns):\n",
      " #   Column                                               Non-Null Count  Dtype  \n",
      "---  ------                                               --------------  -----  \n",
      " 0   S.No.                                                100 non-null    int64  \n",
      " 1   Store's Name                                         100 non-null    object \n",
      " 2   Owner's Name                                         100 non-null    object \n",
      " 3   Gender                                               100 non-null    object \n",
      " 4   Ward No.                                             100 non-null    int64  \n",
      " 5    Contact Details                                     100 non-null    int64  \n",
      " 6   Unnamed: 6                                           100 non-null    int64  \n",
      " 7   Year Wise Orders No.                                 100 non-null    int64  \n",
      " 8   Unnamed: 8                                           100 non-null    int64  \n",
      " 9   Unnamed: 9                                           100 non-null    int64  \n",
      " 10  Unnamed: 10                                          100 non-null    int64  \n",
      " 11  Unnamed: 11                                          100 non-null    int64  \n",
      " 12  Unnamed: 12                                          100 non-null    int64  \n",
      " 13  Unnamed: 13                                          100 non-null    int64  \n",
      " 14  Unnamed: 14                                          100 non-null    int64  \n",
      " 15  Total No. of Orders [Units]                          100 non-null    int64  \n",
      " 16  Total Cost [Exclusive Tax] [CP] Rs.                  100 non-null    int64  \n",
      " 17  Total Selling Cost [Inclusive of sell Tax] @ 5% Rs.  100 non-null    float64\n",
      " 18  VAT Amount @ 15%                                     100 non-null    float64\n",
      " 19  Total Transaction [Rs.]                              100 non-null    float64\n",
      " 20  Paid [Rs.]                                           100 non-null    int64  \n",
      " 21  Unpaid [Rs.]                                         100 non-null    float64\n",
      " 22  Due Periods [Days]                                   100 non-null    int64  \n",
      "dtypes: float64(4), int64(16), object(3)\n",
      "memory usage: 18.1+ KB\n"
     ]
    }
   ],
   "source": [
    "df.info()"
   ]
  },
  {
   "cell_type": "code",
   "execution_count": 33,
   "id": "d17d2ace",
   "metadata": {},
   "outputs": [
    {
     "data": {
      "text/plain": [
       "Index(['S.No.', 'Store's Name', 'Owner's Name ', 'Gender', 'Ward No.',\n",
       "       ' Contact Details', 'Unnamed: 6', 'Year Wise Orders No.', 'Unnamed: 8',\n",
       "       'Unnamed: 9', 'Unnamed: 10', 'Unnamed: 11', 'Unnamed: 12',\n",
       "       'Unnamed: 13', 'Unnamed: 14', 'Total No. of Orders [Units]',\n",
       "       'Total Cost [Exclusive Tax] [CP] Rs.',\n",
       "       'Total Selling Cost [Inclusive of sell Tax] @ 5% Rs.',\n",
       "       'VAT Amount @ 15%', 'Total Transaction [Rs.]', 'Paid [Rs.]',\n",
       "       'Unpaid [Rs.]', 'Due Periods [Days]'],\n",
       "      dtype='object')"
      ]
     },
     "execution_count": 33,
     "metadata": {},
     "output_type": "execute_result"
    }
   ],
   "source": [
    "df.columns"
   ]
  },
  {
   "cell_type": "code",
   "execution_count": 34,
   "id": "3cf6b2c9",
   "metadata": {},
   "outputs": [
    {
     "data": {
      "image/png": "[encoded data removed]",
      "text/plain": [
       "<Figure size 640x480 with 1 Axes>"
      ]
     },
     "metadata": {},
     "output_type": "display_data"
    }
   ],
   "source": [
    "# plotting a bar chart for Gender and it's count\n",
    "\n",
    "ax = sns.countplot(x = 'Gender',data = df)\n",
    "\n",
    "for bars in ax.containers:\n",
    "    ax.bar_label(bars)"
   ]
  },
  {
   "cell_type": "code",
   "execution_count": 36,
   "id": "11222d7e",
   "metadata": {},
   "outputs": [
    {
     "data": {
      "text/plain": [
       "<Axes: xlabel='Gender', ylabel='Total Transaction [Rs.]'>"
      ]
     },
     "execution_count": 36,
     "metadata": {},
     "output_type": "execute_result"
    },
    {
     "data": {
      "image/png": "[encoded data removed]",
      "text/plain": [
       "<Figure size 640x480 with 1 Axes>"
      ]
     },
     "metadata": {},
     "output_type": "display_data"
    }
   ],
   "source": [
    "# plotting a bar chart for gender vs total amount\n",
    "\n",
    "sales_gen = df.groupby(['Gender'], as_index=False)['Total Transaction [Rs.]'].sum().sort_values(by='Total Transaction [Rs.]', ascending=False)\n",
    "\n",
    "sns.barplot(x = 'Gender',y= 'Total Transaction [Rs.]' ,data = sales_gen)"
   ]
  },
  {
   "cell_type": "code",
   "execution_count": 39,
   "id": "922624ad",
   "metadata": {},
   "outputs": [
    {
     "data": {
      "text/plain": [
       "<Axes: xlabel='Ward No.', ylabel='Total No. of Orders [Units]'>"
      ]
     },
     "execution_count": 39,
     "metadata": {},
     "output_type": "execute_result"
    },
    {
     "data": {
      "image/png": "[encoded data removed]",
      "text/plain": [
       "<Figure size 1500x500 with 1 Axes>"
      ]
     },
     "metadata": {},
     "output_type": "display_data"
    }
   ],
   "source": [
    "# total number of orders from top 25 Wards\n",
    "\n",
    "sales_state = df.groupby(['Ward No.'], as_index=False)['Total No. of Orders [Units]'].sum().sort_values(by='Total No. of Orders [Units]', ascending=False).head(25)\n",
    "\n",
    "sns.set(rc={'figure.figsize':(15,5)})\n",
    "sns.barplot(data = sales_state, x = 'Ward No.',y= 'Total No. of Orders [Units]')"
   ]
  },
  {
   "cell_type": "code",
   "execution_count": null,
   "id": "9d10e2f9",
   "metadata": {},
   "outputs": [],
   "source": []
  }
 ],
 "metadata": {
  "kernelspec": {
   "display_name": "Python 3 (ipykernel)",
   "language": "python",
   "name": "python3"
  },
  "language_info": {
   "codemirror_mode": {
    "name": "ipython",
    "version": 3
   },
   "file_extension": ".py",
   "mimetype": "text/x-python",
   "name": "python",
   "nbconvert_exporter": "python",
   "pygments_lexer": "ipython3",
   "version": "3.11.4"
  }
 },
 "nbformat": 4,
 "nbformat_minor": 5
}
